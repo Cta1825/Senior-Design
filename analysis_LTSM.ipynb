{
 "cells": [
  {
   "cell_type": "code",
   "execution_count": 1,
   "id": "10c96d4f-a988-4a16-afbb-0ef094627c5f",
   "metadata": {
    "editable": true,
    "slideshow": {
     "slide_type": ""
    },
    "tags": []
   },
   "outputs": [],
   "source": [
    "import os\n",
    "import sys\n",
    "\n",
    "import pandas as pd\n",
    "import numpy as np\n",
    "from tqdm.auto import tqdm\n",
    "\n",
    "import torch\n",
    "import torch.autograd as autograd\n",
    "import torch.nn as nn\n",
    "import torch.optim as optim\n",
    "from torch.utils.data import Dataset, DataLoader\n",
    "\n",
    "\n",
    "import pytorch_lightning as pl\n",
    "import seaborn as sns\n",
    "from pylab import rcParams\n",
    "import matplotlib.pyplot as plt\n",
    "from matplotlib import rc\n",
    "from matplotlib.ticker import MaxNLocator\n",
    "\n",
    "from sklearn.model_selection import train_test_split\n",
    "from sklearn.preprocessing import LabelEncoder\n",
    "from torchmetrics import Accuracy\n",
    "from multiprocessing import cpu_count\n",
    "from pytorch_lightning.callbacks import ModelCheckpoint, EarlyStopping\n",
    "from pytorch_lightning.loggers import TensorBoardLogger\n",
    "from torch import tensor\n",
    "from sklearn.metrics import classification_report, confusion_matrix\n",
    "\n",
    "from experience_dataset import ExperienceDataset"
   ]
  },
  {
   "cell_type": "code",
   "execution_count": null,
   "id": "23d361a1-cd14-4a7a-89a9-02febd62e256",
   "metadata": {},
   "outputs": [],
   "source": []
  },
  {
   "cell_type": "code",
   "execution_count": 2,
   "id": "e465c628-f229-4d18-b31e-b8f7e3b2b86a",
   "metadata": {
    "editable": true,
    "slideshow": {
     "slide_type": ""
    },
    "tags": []
   },
   "outputs": [],
   "source": [
    "data_directory = '/Users/mattn/Library/CloudStorage/OneDrive-SharedLibraries-UniversityofFlorida/BME 4883 Spring 2024 - Team 01 - Intubator Trainers - Appendix A4 - Raw Data & Design Verification/Processed'\n",
    "\n",
    "data_files = [file for file in os.listdir(data_directory) if file.endswith('.csv')]\n",
    "\"\"\"\n",
    "# Initialize empty lists to store novices and experts data\n",
    "novices_data = []\n",
    "experts_data = []\n",
    "\n",
    "# Iterate over each CSV file and load it into a DataFrame\n",
    "for file in data_files:\n",
    "    df = pd.read_csv(os.path.join(data_directory, file))\n",
    "    # Extract expertise level and trial from filename\n",
    "    expertise_level, trial = file.split('_')[:2]  # Assuming filename format: novice_trialX.csv or expert_trialX.csv\n",
    "#    df['expertise_level'] = expertise_level\n",
    "    df['trial'] = trial\n",
    "    if expertise_level == 'novice':\n",
    "        df['expertise_level'] = 0\n",
    "        novices_data.append(df)\n",
    "    elif expertise_level == 'expert':\n",
    "        df['expertise_level'] = 1\n",
    "        experts_data.append(df)\n",
    "\n",
    "# Concatenate novices and experts DataFrames\n",
    "novices_data = pd.concat(novices_data, ignore_index=True)\n",
    "experts_data = pd.concat(experts_data, ignore_index=True)\n",
    "\"\"\"\n",
    "sequences = []\n",
    "max_rows = 0\n",
    "\n",
    "for file in data_files:\n",
    "    df = pd.read_csv(os.path.join(data_directory, file))\n",
    "    expertise_level, trial = file.split('_')[:2]  # Assuming filename format: novice_trialX.csv or expert_trialX.csv\n",
    "   # df['trial'] = trial\n",
    "    if expertise_level == 'novice':\n",
    "        label = 0\n",
    "    elif expertise_level == 'expert':\n",
    "        label = 1\n",
    "    \n",
    "    desired_rows = 299\n",
    "\n",
    "    # Calculate the number of rows to be padded\n",
    "    rows_to_pad = desired_rows - df.shape[0]\n",
    "\n",
    "    # Pad the end of the array with zero rows\n",
    "    zero_rows_df = pd.DataFrame([[0] * len(df.columns)] * rows_to_pad, columns=df.columns)\n",
    "    \n",
    "    # Concatenate the original DataFrame with the zero-padded DataFrame\n",
    "    padded_df = pd.concat([df, zero_rows_df], ignore_index=True)\n",
    "    \n",
    "    sequences.append((padded_df,label))\n",
    "    "
   ]
  },
  {
   "cell_type": "code",
   "execution_count": 3,
   "id": "428037a0-f313-4fd0-ba44-3651ed030368",
   "metadata": {
    "tags": []
   },
   "outputs": [
    {
     "data": {
      "text/plain": [
       "\"\\nlabel_encoder = LabelEncoder()\\nencoded_labels = label_encoder.fit_transform(combined_data['trial'])\\nlabel_encoder.classes_\\n\\ncombined_data['trial'] = encoded_labels\\n\\n\""
      ]
     },
     "execution_count": 3,
     "metadata": {},
     "output_type": "execute_result"
    }
   ],
   "source": [
    "'''\n",
    "label_encoder = LabelEncoder()\n",
    "encoded_labels = label_encoder.fit_transform(combined_data['trial'])\n",
    "label_encoder.classes_\n",
    "\n",
    "combined_data['trial'] = encoded_labels\n",
    "\n",
    "'''"
   ]
  },
  {
   "cell_type": "code",
   "execution_count": 126,
   "id": "4ae236e6-9a63-450b-b93f-bce7ce2333a5",
   "metadata": {
    "tags": []
   },
   "outputs": [],
   "source": [
    "train_sequence, test_sequence = train_test_split(sequences, test_size=.2, random_state = 42)"
   ]
  },
  {
   "cell_type": "code",
   "execution_count": 5,
   "id": "45067271-7016-403a-815c-cda25e492894",
   "metadata": {
    "tags": []
   },
   "outputs": [
    {
     "data": {
      "text/plain": [
       "'\\nclass ExperienceDataset(Dataset):\\n    \\n    def __init__(self,sequences):\\n        self.sequences = sequences\\n        \\n    def __len__(self):\\n        return len(self.sequences)\\n    \\n    def __getitem__(self, idx):\\n        sequence, label = self.sequences[idx]\\n        return dict(\\n            sequence = torch.Tensor(sequence.to_numpy()),\\n            label = torch.tensor(label).long()\\n        )\\n'"
      ]
     },
     "execution_count": 5,
     "metadata": {},
     "output_type": "execute_result"
    }
   ],
   "source": [
    "'''\n",
    "class ExperienceDataset(Dataset):\n",
    "    \n",
    "    def __init__(self,sequences):\n",
    "        self.sequences = sequences\n",
    "        \n",
    "    def __len__(self):\n",
    "        return len(self.sequences)\n",
    "    \n",
    "    def __getitem__(self, idx):\n",
    "        sequence, label = self.sequences[idx]\n",
    "        return dict(\n",
    "            sequence = torch.Tensor(sequence.to_numpy()),\n",
    "            label = torch.tensor(label).long()\n",
    "        )\n",
    "'''"
   ]
  },
  {
   "cell_type": "code",
   "execution_count": 110,
   "id": "8a800fdb-797d-428b-a29c-769cdff5dcea",
   "metadata": {
    "tags": []
   },
   "outputs": [],
   "source": [
    "class ExperienceDataModule(pl.LightningDataModule):\n",
    "    \n",
    "    def __init__(self, train_sequences, test_sequences, batch_size):\n",
    "        super().__init__()\n",
    "        self.train_sequences = train_sequences\n",
    "        self.test_sequences = test_sequences\n",
    "        self.batch_size = batch_size\n",
    "        \n",
    "    def setup(self, stage=None):\n",
    "        self.train_dataset = ExperienceDataset(self.train_sequences)\n",
    "        self.test_dataset = ExperienceDataset(self.test_sequences)\n",
    "        \n",
    "    def train_dataloader(self):\n",
    "        return DataLoader(\n",
    "            self.train_dataset,\n",
    "            batch_size = self.batch_size,\n",
    "            shuffle = True,\n",
    "            num_workers = cpu_count()\n",
    "        )\n",
    "    \n",
    "    def val_dataLoader(self):\n",
    "        return DataLoader(\n",
    "            self.test_dataset,\n",
    "            batch_size = self.batch_size,\n",
    "            shuffle = False,\n",
    "            num_workers = cpu_count()\n",
    "        )\n",
    "    \n",
    "    def test_dataLoader(self):\n",
    "        return DataLoader(\n",
    "            self.test_dataset,\n",
    "            batch_size = self.batch_size,\n",
    "            shuffle = False,\n",
    "            num_workers = cpu_count()\n",
    "        )"
   ]
  },
  {
   "cell_type": "code",
   "execution_count": 111,
   "id": "640a2d7f-fbf7-4909-9923-36d70c0ab323",
   "metadata": {
    "tags": []
   },
   "outputs": [],
   "source": [
    "N_EPOCHS = 250\n",
    "BATCH_SIZE = 32\n",
    "\n",
    "data_module = ExperienceDataModule(train_sequence, test_sequence, BATCH_SIZE)"
   ]
  },
  {
   "cell_type": "code",
   "execution_count": 150,
   "id": "f8a5b88d-82a0-49cf-80b0-b2afbb1a3446",
   "metadata": {
    "tags": []
   },
   "outputs": [],
   "source": [
    "class SequenceModel(nn.Module):\n",
    "    \n",
    "    def __init__(self, n_features, n_classes, n_hidden=512, n_layers=5):\n",
    "        super().__init__()\n",
    "        \n",
    "        self.lstm = nn.LSTM(\n",
    "            input_size = n_features,\n",
    "            hidden_size = n_hidden,\n",
    "            num_layers = n_layers,\n",
    "            batch_first = True,\n",
    "            dropout = .75\n",
    "        )\n",
    "        \n",
    "        self.classifier = nn.Linear(n_hidden, n_classes)\n",
    "        \n",
    "    def forward(self,x):\n",
    "        self.lstm.flatten_parameters()\n",
    "        _, (hidden,_) = self.lstm(x)\n",
    "        \n",
    "        out = hidden[-1]\n",
    "        return self.classifier(out)\n",
    "            "
   ]
  },
  {
   "cell_type": "code",
   "execution_count": 151,
   "id": "afbcd820-6628-4ee4-8bd9-7ac29da79676",
   "metadata": {
    "tags": []
   },
   "outputs": [],
   "source": [
    "class ExperiencePredictor(pl.LightningModule):\n",
    "    \n",
    "    def __init__(self, n_features: int, n_classes: int):\n",
    "        super().__init__()\n",
    "        self.model = SequenceModel(n_features, n_classes)\n",
    "        self.criterion = nn.CrossEntropyLoss()\n",
    "    \n",
    "    def forward(self, x, labels=None):\n",
    "        output = self.model(x)\n",
    "        loss = 0\n",
    "        if labels is not None:\n",
    "            loss = self.criterion(output, labels)\n",
    "        return loss, output\n",
    "    \n",
    "    def training_step(self, batch, batch_idx):\n",
    "        sequences = batch['sequence']\n",
    "        labels = batch['label']\n",
    "        loss, outputs = self(sequences, labels)\n",
    "        predictions = torch.argmax(outputs, dim=1)\n",
    "        accuracy = Accuracy(task='binary')\n",
    "        step_accuracy = accuracy(predictions, labels)\n",
    "        \n",
    "        self.log('training_loss', loss, prog_bar=True, logger=True)\n",
    "        self.log('training_accuracy', step_accuracy, prog_bar=True, logger=True)\n",
    "        return {'loss': loss, 'accuracy': step_accuracy}\n",
    "    \n",
    "    def validation_step(self, batch, batch_idx):\n",
    "        sequences = batch['sequence']\n",
    "        labels = batch['label']\n",
    "        loss, outputs = self(sequences, labels)\n",
    "        predictions = torch.argmax(outputs, dim=1)\n",
    "        accuracy = Accuracy(task='binary')\n",
    "        step_accuracy = accuracy(predictions, labels)\n",
    "        \n",
    "        self.log('val_loss', loss, prog_bar=True, logger=True)\n",
    "        self.log('val_accuracy', step_accuracy, prog_bar=True, logger=True)\n",
    "        return {'loss': loss, 'accuracy': step_accuracy}\n",
    "    \n",
    "    def testing_step(self, batch, batch_idx):\n",
    "        sequences = batch['sequence']\n",
    "        labels = batch['label']\n",
    "        loss, outputs = self(sequences, labels)\n",
    "        predictions = torch.argmax(outputs, dim=1)\n",
    "        accuracy = Accuracy(task='binary')\n",
    "        step_accuracy = accuracy(predictions, labels)\n",
    "        \n",
    "        self.log('test_loss', loss, prog_bar=True, logger=True)\n",
    "        self.log('test_accuracy', step_accuracy, prog_bar=True, logger=True)\n",
    "        return {'loss': loss, 'accuracy': step_accuracy}\n",
    "    \n",
    "    def configure_optimizers(self):\n",
    "        return optim.SGD(self.parameters(), lr=0.0001)\n",
    "        "
   ]
  },
  {
   "cell_type": "code",
   "execution_count": 153,
   "id": "b3da1e00-4e91-4b1d-a972-efa907c89c03",
   "metadata": {
    "tags": []
   },
   "outputs": [],
   "source": [
    "model = ExperiencePredictor(\n",
    "    n_features=10, \n",
    "    n_classes=2\n",
    ")"
   ]
  },
  {
   "cell_type": "code",
   "execution_count": 154,
   "id": "01de349c-fc76-4317-9205-8d012da20e54",
   "metadata": {},
   "outputs": [
    {
     "name": "stdout",
     "output_type": "stream",
     "text": [
      "The tensorboard extension is already loaded. To reload it, use:\n",
      "  %reload_ext tensorboard\n"
     ]
    },
    {
     "data": {
      "text/plain": [
       "Reusing TensorBoard on port 6006 (pid 18941), started 1 day, 4:38:59 ago. (Use '!kill 18941' to kill it.)"
      ]
     },
     "metadata": {},
     "output_type": "display_data"
    },
    {
     "data": {
      "text/html": [
       "\n",
       "      <iframe id=\"tensorboard-frame-59dd08cdd0f92a6c\" width=\"100%\" height=\"800\" frameborder=\"0\">\n",
       "      </iframe>\n",
       "      <script>\n",
       "        (function() {\n",
       "          const frame = document.getElementById(\"tensorboard-frame-59dd08cdd0f92a6c\");\n",
       "          const url = new URL(\"/\", window.location);\n",
       "          const port = 6006;\n",
       "          if (port) {\n",
       "            url.port = port;\n",
       "          }\n",
       "          frame.src = url;\n",
       "        })();\n",
       "      </script>\n",
       "    "
      ],
      "text/plain": [
       "<IPython.core.display.HTML object>"
      ]
     },
     "metadata": {},
     "output_type": "display_data"
    }
   ],
   "source": [
    "%load_ext tensorboard\n",
    "%tensorboard --logdir ./lightning_logs"
   ]
  },
  {
   "cell_type": "code",
   "execution_count": 155,
   "id": "3cad4a37-85a6-444e-94fb-7e52b023d9cb",
   "metadata": {},
   "outputs": [
    {
     "name": "stderr",
     "output_type": "stream",
     "text": [
      "GPU available: False, used: False\n",
      "TPU available: False, using: 0 TPU cores\n",
      "IPU available: False, using: 0 IPUs\n",
      "HPU available: False, using: 0 HPUs\n"
     ]
    }
   ],
   "source": [
    "checkpoint_filepath = '/Users/mattn/Library/CloudStorage/OneDrive-UniversityofFlorida/Senior-Design'\n",
    "checkpoint_callback = ModelCheckpoint(\n",
    "    dirpath=checkpoint_filepath,\n",
    "    save_top_k=2,\n",
    "    verbose=True,\n",
    "    monitor='val_loss',\n",
    "    mode='min',\n",
    "    save_last=True\n",
    "    \n",
    ")\n",
    "\n",
    "logger = TensorBoardLogger('lightning_logs', name='experience')\n",
    "\n",
    "trainer = pl.Trainer(\n",
    "    logger = logger,\n",
    "    callbacks = [checkpoint_callback],\n",
    "    max_epochs = N_EPOCHS,\n",
    "    log_every_n_steps=2\n",
    " #   gpus=1,\n",
    "    #progress_bar_refresh_rate=30\n",
    ")"
   ]
  },
  {
   "cell_type": "code",
   "execution_count": null,
   "id": "dbc0bb8f-d87b-4c42-a450-7bb860bd6c85",
   "metadata": {},
   "outputs": [
    {
     "name": "stderr",
     "output_type": "stream",
     "text": [
      "/Users/mattn/anaconda3/envs/python39/lib/python3.9/site-packages/pytorch_lightning/trainer/configuration_validator.py:70: PossibleUserWarning: You defined a `validation_step` but have no `val_dataloader`. Skipping val loop.\n",
      "  rank_zero_warn(\n",
      "/Users/mattn/anaconda3/envs/python39/lib/python3.9/site-packages/pytorch_lightning/callbacks/model_checkpoint.py:615: UserWarning: Checkpoint directory /Users/mattn/Library/CloudStorage/OneDrive-UniversityofFlorida/Senior-Design exists and is not empty.\n",
      "  rank_zero_warn(f\"Checkpoint directory {dirpath} exists and is not empty.\")\n",
      "\n",
      "  | Name      | Type             | Params\n",
      "-----------------------------------------------\n",
      "0 | model     | SequenceModel    | 9.5 M \n",
      "1 | criterion | CrossEntropyLoss | 0     \n",
      "-----------------------------------------------\n",
      "9.5 M     Trainable params\n",
      "0         Non-trainable params\n",
      "9.5 M     Total params\n",
      "37.917    Total estimated model params size (MB)\n"
     ]
    },
    {
     "data": {
      "application/vnd.jupyter.widget-view+json": {
       "model_id": "8481e42bc0e748d59149d07a2564b320",
       "version_major": 2,
       "version_minor": 0
      },
      "text/plain": [
       "Training: 0it [00:00, ?it/s]"
      ]
     },
     "metadata": {},
     "output_type": "display_data"
    },
    {
     "name": "stderr",
     "output_type": "stream",
     "text": [
      "Epoch 0, global step 2: 'val_loss' was not in top 2\n",
      "Epoch 1, global step 4: 'val_loss' was not in top 2\n",
      "Epoch 2, global step 6: 'val_loss' was not in top 2\n",
      "Epoch 3, global step 8: 'val_loss' was not in top 2\n",
      "Epoch 4, global step 10: 'val_loss' was not in top 2\n",
      "Epoch 5, global step 12: 'val_loss' was not in top 2\n",
      "Epoch 6, global step 14: 'val_loss' was not in top 2\n",
      "Epoch 7, global step 16: 'val_loss' was not in top 2\n",
      "Epoch 8, global step 18: 'val_loss' was not in top 2\n",
      "Epoch 9, global step 20: 'val_loss' was not in top 2\n",
      "Epoch 10, global step 22: 'val_loss' was not in top 2\n",
      "Epoch 11, global step 24: 'val_loss' was not in top 2\n",
      "Epoch 12, global step 26: 'val_loss' was not in top 2\n",
      "Epoch 13, global step 28: 'val_loss' was not in top 2\n",
      "Epoch 14, global step 30: 'val_loss' was not in top 2\n",
      "Epoch 15, global step 32: 'val_loss' was not in top 2\n",
      "Epoch 16, global step 34: 'val_loss' was not in top 2\n",
      "Epoch 17, global step 36: 'val_loss' was not in top 2\n",
      "Epoch 18, global step 38: 'val_loss' was not in top 2\n",
      "Epoch 19, global step 40: 'val_loss' was not in top 2\n",
      "Epoch 20, global step 42: 'val_loss' was not in top 2\n",
      "Epoch 21, global step 44: 'val_loss' was not in top 2\n",
      "Epoch 22, global step 46: 'val_loss' was not in top 2\n",
      "Epoch 23, global step 48: 'val_loss' was not in top 2\n",
      "Epoch 24, global step 50: 'val_loss' was not in top 2\n",
      "Epoch 25, global step 52: 'val_loss' was not in top 2\n",
      "Epoch 26, global step 54: 'val_loss' was not in top 2\n",
      "Epoch 27, global step 56: 'val_loss' was not in top 2\n",
      "Epoch 28, global step 58: 'val_loss' was not in top 2\n",
      "Epoch 29, global step 60: 'val_loss' was not in top 2\n",
      "Epoch 30, global step 62: 'val_loss' was not in top 2\n",
      "Epoch 31, global step 64: 'val_loss' was not in top 2\n",
      "Epoch 32, global step 66: 'val_loss' was not in top 2\n",
      "Epoch 33, global step 68: 'val_loss' was not in top 2\n",
      "Epoch 34, global step 70: 'val_loss' was not in top 2\n",
      "Epoch 35, global step 72: 'val_loss' was not in top 2\n",
      "Epoch 36, global step 74: 'val_loss' was not in top 2\n",
      "Epoch 37, global step 76: 'val_loss' was not in top 2\n",
      "Epoch 38, global step 78: 'val_loss' was not in top 2\n",
      "Epoch 39, global step 80: 'val_loss' was not in top 2\n",
      "Epoch 40, global step 82: 'val_loss' was not in top 2\n",
      "Epoch 41, global step 84: 'val_loss' was not in top 2\n",
      "Epoch 42, global step 86: 'val_loss' was not in top 2\n",
      "Epoch 43, global step 88: 'val_loss' was not in top 2\n",
      "Epoch 44, global step 90: 'val_loss' was not in top 2\n",
      "Epoch 45, global step 92: 'val_loss' was not in top 2\n",
      "Epoch 46, global step 94: 'val_loss' was not in top 2\n",
      "Epoch 47, global step 96: 'val_loss' was not in top 2\n",
      "Epoch 48, global step 98: 'val_loss' was not in top 2\n",
      "Epoch 49, global step 100: 'val_loss' was not in top 2\n",
      "Epoch 50, global step 102: 'val_loss' was not in top 2\n",
      "Epoch 51, global step 104: 'val_loss' was not in top 2\n",
      "Epoch 52, global step 106: 'val_loss' was not in top 2\n",
      "Epoch 53, global step 108: 'val_loss' was not in top 2\n",
      "Epoch 54, global step 110: 'val_loss' was not in top 2\n",
      "Epoch 55, global step 112: 'val_loss' was not in top 2\n",
      "Epoch 56, global step 114: 'val_loss' was not in top 2\n",
      "Epoch 57, global step 116: 'val_loss' was not in top 2\n",
      "Epoch 58, global step 118: 'val_loss' was not in top 2\n",
      "Epoch 59, global step 120: 'val_loss' was not in top 2\n",
      "Epoch 60, global step 122: 'val_loss' was not in top 2\n",
      "Epoch 61, global step 124: 'val_loss' was not in top 2\n",
      "Epoch 62, global step 126: 'val_loss' was not in top 2\n",
      "Epoch 63, global step 128: 'val_loss' was not in top 2\n",
      "Epoch 64, global step 130: 'val_loss' was not in top 2\n",
      "Epoch 65, global step 132: 'val_loss' was not in top 2\n",
      "Epoch 66, global step 134: 'val_loss' was not in top 2\n",
      "Epoch 67, global step 136: 'val_loss' was not in top 2\n",
      "Epoch 68, global step 138: 'val_loss' was not in top 2\n",
      "Epoch 69, global step 140: 'val_loss' was not in top 2\n",
      "Epoch 70, global step 142: 'val_loss' was not in top 2\n"
     ]
    }
   ],
   "source": [
    "trainer.fit(model, data_module)"
   ]
  },
  {
   "cell_type": "code",
   "execution_count": 124,
   "id": "b15f2eb7-9fcd-4167-8796-8b99e47c4396",
   "metadata": {
    "editable": true,
    "slideshow": {
     "slide_type": ""
    },
    "tags": []
   },
   "outputs": [],
   "source": [
    "trained_model = ExperiencePredictor.load_from_checkpoint(\n",
    "    trainer.checkpoint_callback.last_model_path,\n",
    "    n_features = 10,\n",
    "    n_classes = 2\n",
    ")"
   ]
  },
  {
   "cell_type": "code",
   "execution_count": 128,
   "id": "7960b0f3-a7ef-4517-92d1-39d4d6b7236a",
   "metadata": {
    "editable": true,
    "slideshow": {
     "slide_type": ""
    },
    "tags": []
   },
   "outputs": [
    {
     "data": {
      "application/vnd.jupyter.widget-view+json": {
       "model_id": "b760c37a10c54084a25b47952f645cfb",
       "version_major": 2,
       "version_minor": 0
      },
      "text/plain": [
       "  0%|          | 0/11 [00:00<?, ?it/s]"
      ]
     },
     "metadata": {},
     "output_type": "display_data"
    }
   ],
   "source": [
    "test_dataset = ExperienceDataset(test_sequence)\n",
    "\n",
    "predictions = []\n",
    "labels = []\n",
    "\n",
    "for item in tqdm(test_dataset):\n",
    "    sequence = item['sequence']\n",
    "    label = item['label']\n",
    "    _, output = trained_model(sequence.unsqueeze(dim=0))\n",
    "    prediction = torch.argmax(output, dim=1)\n",
    "    predictions.append(prediction.item())\n",
    "    labels.append(label.item())\n",
    "    "
   ]
  },
  {
   "cell_type": "code",
   "execution_count": 145,
   "id": "fda118fd-2b3f-413d-8822-a09f259d1997",
   "metadata": {
    "scrolled": true
   },
   "outputs": [
    {
     "name": "stdout",
     "output_type": "stream",
     "text": [
      "              precision    recall  f1-score   support\n",
      "\n",
      "      Novice       0.00      0.00      0.00         5\n",
      "      Expert       0.55      1.00      0.71         6\n",
      "\n",
      "    accuracy                           0.55        11\n",
      "   macro avg       0.27      0.50      0.35        11\n",
      "weighted avg       0.30      0.55      0.39        11\n",
      "\n"
     ]
    },
    {
     "name": "stderr",
     "output_type": "stream",
     "text": [
      "/Users/mattn/anaconda3/envs/python39/lib/python3.9/site-packages/sklearn/metrics/_classification.py:1469: UndefinedMetricWarning: Precision and F-score are ill-defined and being set to 0.0 in labels with no predicted samples. Use `zero_division` parameter to control this behavior.\n",
      "  _warn_prf(average, modifier, msg_start, len(result))\n",
      "/Users/mattn/anaconda3/envs/python39/lib/python3.9/site-packages/sklearn/metrics/_classification.py:1469: UndefinedMetricWarning: Precision and F-score are ill-defined and being set to 0.0 in labels with no predicted samples. Use `zero_division` parameter to control this behavior.\n",
      "  _warn_prf(average, modifier, msg_start, len(result))\n",
      "/Users/mattn/anaconda3/envs/python39/lib/python3.9/site-packages/sklearn/metrics/_classification.py:1469: UndefinedMetricWarning: Precision and F-score are ill-defined and being set to 0.0 in labels with no predicted samples. Use `zero_division` parameter to control this behavior.\n",
      "  _warn_prf(average, modifier, msg_start, len(result))\n"
     ]
    }
   ],
   "source": [
    "print(\n",
    "    classification_report(labels, predictions, target_names=['Novice', 'Expert'])\n",
    ")"
   ]
  },
  {
   "cell_type": "code",
   "execution_count": 141,
   "id": "0c1844bb-18f5-478c-ba49-dc1b9bbfbf57",
   "metadata": {
    "jp-MarkdownHeadingCollapsed": true
   },
   "outputs": [],
   "source": [
    "def show_confusion_matrix(confusion_matrix):\n",
    "    hmap = sns.heatmap(confusion_matrix, annot=True, fmt='d', cmap='Blues')\n",
    "    hmap.yaxis.set_ticklabels(hmap.yaxis.get_ticklabels(), rotation=0, ha='right')\n",
    "    hmap.xaxis.set_ticklabels(hmap.xaxis.get_ticklabels(), rotation=30, ha='right')\n",
    "    plt.ylabel('True Experience')\n",
    "    plt.xlabel('Predicted Experience')"
   ]
  },
  {
   "cell_type": "code",
   "execution_count": 148,
   "id": "90752780-6a95-48c6-9190-bb3d64ae2152",
   "metadata": {},
   "outputs": [
    {
     "data": {
      "image/png": "[encoded data removed]",
      "text/plain": [
       "<Figure size 432x288 with 2 Axes>"
      ]
     },
     "metadata": {
      "needs_background": "light"
     },
     "output_type": "display_data"
    }
   ],
   "source": [
    "cm = confusion_matrix(labels, predictions)\n",
    "df_cm = pd.DataFrame(\n",
    "    cm, index=['Novice', 'Expert'], columns=['Novice', 'Expert']\n",
    ")\n",
    "show_confusion_matrix(df_cm)"
   ]
  },
  {
   "cell_type": "code",
   "execution_count": 123,
   "id": "b85e1b5a-1bd8-4620-b84a-d299dc6a60ce",
   "metadata": {},
   "outputs": [
    {
     "data": {
      "text/plain": [
       "'/Users/mattn/Library/CloudStorage/OneDrive-UniversityofFlorida/Senior-Design/last.ckpt'"
      ]
     },
     "execution_count": 123,
     "metadata": {},
     "output_type": "execute_result"
    }
   ],
   "source": [
    "trainer.checkpoint_callback.last_model_path"
   ]
  },
  {
   "cell_type": "code",
   "execution_count": 144,
   "id": "b4e2b93a-e418-4f7d-b033-4a0a85158f3d",
   "metadata": {},
   "outputs": [
    {
     "name": "stdout",
     "output_type": "stream",
     "text": [
      "[(        x-pos     y-pos     z-pos   w-orien   x-orien   y-orien   z-orien  \\\n",
      "0    0.000000  0.000000  0.000000  0.690369  0.581277 -0.316564 -0.292054   \n",
      "1    0.000005  0.073661  0.048146  0.772311  0.417842 -0.227714 -0.420820   \n",
      "2    0.024052  0.107857  0.154204  0.908511  0.100324 -0.157375 -0.373867   \n",
      "3    0.101274  0.082174  0.194924  0.737206 -0.392653 -0.349406 -0.424579   \n",
      "4    0.178466  0.011325  0.234495  0.715431 -0.541170 -0.174592 -0.405970   \n",
      "..        ...       ...       ...       ...       ...       ...       ...   \n",
      "294  0.000000  0.000000  0.000000  0.000000  0.000000  0.000000  0.000000   \n",
      "295  0.000000  0.000000  0.000000  0.000000  0.000000  0.000000  0.000000   \n",
      "296  0.000000  0.000000  0.000000  0.000000  0.000000  0.000000  0.000000   \n",
      "297  0.000000  0.000000  0.000000  0.000000  0.000000  0.000000  0.000000   \n",
      "298  0.000000  0.000000  0.000000  0.000000  0.000000  0.000000  0.000000   \n",
      "\n",
      "         x-ang      y-ang      z-ang  \n",
      "0   -34.119000  -7.019000  19.287000  \n",
      "1   -47.545948  -7.384766 -14.282128  \n",
      "2   -67.744557  -6.286517  26.857846  \n",
      "3   -79.762744 -84.717043  -4.572610  \n",
      "4   -40.447697  11.357362  23.995953  \n",
      "..         ...        ...        ...  \n",
      "294   0.000000   0.000000   0.000000  \n",
      "295   0.000000   0.000000   0.000000  \n",
      "296   0.000000   0.000000   0.000000  \n",
      "297   0.000000   0.000000   0.000000  \n",
      "298   0.000000   0.000000   0.000000  \n",
      "\n",
      "[299 rows x 10 columns], 1), (        x-pos     y-pos     z-pos   w-orien   x-orien   y-orien   z-orien  \\\n",
      "0    0.000000  0.000000  0.000000  0.730861  0.663200  0.050927 -0.153018   \n",
      "1   -0.022199  0.085952  0.006363  0.720570  0.679383  0.051859 -0.128562   \n",
      "2   -0.066724  0.197982  0.016749  0.722583  0.664994  0.121934 -0.144182   \n",
      "3   -0.103933  0.278830  0.016688  0.692689  0.688604  0.161752 -0.140863   \n",
      "4   -0.324057  0.667817  0.023294  0.701658  0.661267  0.235239 -0.122743   \n",
      "..        ...       ...       ...       ...       ...       ...       ...   \n",
      "294  0.000000  0.000000  0.000000  0.000000  0.000000  0.000000  0.000000   \n",
      "295  0.000000  0.000000  0.000000  0.000000  0.000000  0.000000  0.000000   \n",
      "296  0.000000  0.000000  0.000000  0.000000  0.000000  0.000000  0.000000   \n",
      "297  0.000000  0.000000  0.000000  0.000000  0.000000  0.000000  0.000000   \n",
      "298  0.000000  0.000000  0.000000  0.000000  0.000000  0.000000  0.000000   \n",
      "\n",
      "        x-ang      y-ang      z-ang  \n",
      "0   -5.005000  -2.991000   4.822000  \n",
      "1    3.479053   4.028031   3.296281  \n",
      "2   -4.089015   7.812913 -12.328705  \n",
      "3    6.165233   7.995341  -5.369502  \n",
      "4   -7.812777  12.205365  -8.542734  \n",
      "..        ...        ...        ...  \n",
      "294  0.000000   0.000000   0.000000  \n",
      "295  0.000000   0.000000   0.000000  \n",
      "296  0.000000   0.000000   0.000000  \n",
      "297  0.000000   0.000000   0.000000  \n",
      "298  0.000000   0.000000   0.000000  \n",
      "\n",
      "[299 rows x 10 columns], 0), (        x-pos     y-pos     z-pos   w-orien   x-orien   y-orien   z-orien  \\\n",
      "0    0.000000  0.000000  0.000000  0.935945  0.318995 -0.138876  0.054425   \n",
      "1    0.007256  0.038456  0.045480  0.935507  0.345328 -0.041794  0.061872   \n",
      "2    0.030394  0.135596  0.160078  0.935391  0.344716 -0.064847  0.044831   \n",
      "3    0.039762  0.175676  0.205098  0.931471  0.355420 -0.068286  0.037095   \n",
      "4    0.055771  0.245581  0.296273  0.942982  0.322932 -0.052112  0.061510   \n",
      "..        ...       ...       ...       ...       ...       ...       ...   \n",
      "294  0.000000  0.000000  0.000000  0.000000  0.000000  0.000000  0.000000   \n",
      "295  0.000000  0.000000  0.000000  0.000000  0.000000  0.000000  0.000000   \n",
      "296  0.000000  0.000000  0.000000  0.000000  0.000000  0.000000  0.000000   \n",
      "297  0.000000  0.000000  0.000000  0.000000  0.000000  0.000000  0.000000   \n",
      "298  0.000000  0.000000  0.000000  0.000000  0.000000  0.000000  0.000000   \n",
      "\n",
      "         x-ang      y-ang      z-ang  \n",
      "0   -21.790000 -34.607000  10.071000  \n",
      "1     6.165143  18.311979  -5.554547  \n",
      "2    -0.548698  -5.674840  -1.587490  \n",
      "3     2.136336  -1.524338  -1.343496  \n",
      "4    -6.530653   5.068205   3.783577  \n",
      "..         ...        ...        ...  \n",
      "294   0.000000   0.000000   0.000000  \n",
      "295   0.000000   0.000000   0.000000  \n",
      "296   0.000000   0.000000   0.000000  \n",
      "297   0.000000   0.000000   0.000000  \n",
      "298   0.000000   0.000000   0.000000  \n",
      "\n",
      "[299 rows x 10 columns], 1), (        x-pos     y-pos     z-pos   w-orien   x-orien   y-orien   z-orien  \\\n",
      "0    0.000000  0.000000  0.000000  0.737508  0.492699 -0.293173 -0.356904   \n",
      "1    0.016682  0.127567  0.044095  0.737735  0.490762 -0.311513 -0.343307   \n",
      "2    0.024418  0.194398  0.063428  0.730390  0.518405 -0.305225 -0.323456   \n",
      "3    0.028897  0.350247  0.068643  0.619122  0.588365 -0.370288 -0.365242   \n",
      "4    0.028668  0.387668  0.043651  0.417525  0.783400 -0.404930 -0.219066   \n",
      "..        ...       ...       ...       ...       ...       ...       ...   \n",
      "294  0.000000  0.000000  0.000000  0.000000  0.000000  0.000000  0.000000   \n",
      "295  0.000000  0.000000  0.000000  0.000000  0.000000  0.000000  0.000000   \n",
      "296  0.000000  0.000000  0.000000  0.000000  0.000000  0.000000  0.000000   \n",
      "297  0.000000  0.000000  0.000000  0.000000  0.000000  0.000000  0.000000   \n",
      "298  0.000000  0.000000  0.000000  0.000000  0.000000  0.000000  0.000000   \n",
      "\n",
      "         x-ang      y-ang      z-ang  \n",
      "0     1.099000  -4.211000   5.371000  \n",
      "1     1.709738  -1.587110   3.906485  \n",
      "2     5.737972   4.333130   0.183574  \n",
      "3    24.109625 -16.662917 -10.680690  \n",
      "4    64.207851  12.330225  -6.287207  \n",
      "..         ...        ...        ...  \n",
      "294   0.000000   0.000000   0.000000  \n",
      "295   0.000000   0.000000   0.000000  \n",
      "296   0.000000   0.000000   0.000000  \n",
      "297   0.000000   0.000000   0.000000  \n",
      "298   0.000000   0.000000   0.000000  \n",
      "\n",
      "[299 rows x 10 columns], 0), (        x-pos     y-pos     z-pos   w-orien   x-orien   y-orien   z-orien  \\\n",
      "0    0.000000  0.000000  0.000000  0.592243  0.538331 -0.042154 -0.598056   \n",
      "1   -0.052605  0.070462  0.019178  0.522910  0.615568 -0.120539 -0.577159   \n",
      "2   -0.118973  0.163128  0.021230  0.385493  0.651133 -0.258899 -0.600327   \n",
      "3   -0.165489  0.235363 -0.005576  0.293915  0.714653 -0.371738 -0.514486   \n",
      "4   -0.203293  0.301613 -0.051432  0.227972  0.732420 -0.470298 -0.436359   \n",
      "..        ...       ...       ...       ...       ...       ...       ...   \n",
      "294  0.000000  0.000000  0.000000  0.000000  0.000000  0.000000  0.000000   \n",
      "295  0.000000  0.000000  0.000000  0.000000  0.000000  0.000000  0.000000   \n",
      "296  0.000000  0.000000  0.000000  0.000000  0.000000  0.000000  0.000000   \n",
      "297  0.000000  0.000000  0.000000  0.000000  0.000000  0.000000  0.000000   \n",
      "298  0.000000  0.000000  0.000000  0.000000  0.000000  0.000000  0.000000   \n",
      "\n",
      "         x-ang      y-ang      z-ang  \n",
      "0    14.832000   8.118000 -17.883000  \n",
      "1    26.551261   1.587370   2.075966  \n",
      "2    37.292469 -17.211564  -1.769306  \n",
      "3    36.679742   4.945722   7.750739  \n",
      "4    28.313323   1.589706  11.411582  \n",
      "..         ...        ...        ...  \n",
      "294   0.000000   0.000000   0.000000  \n",
      "295   0.000000   0.000000   0.000000  \n",
      "296   0.000000   0.000000   0.000000  \n",
      "297   0.000000   0.000000   0.000000  \n",
      "298   0.000000   0.000000   0.000000  \n",
      "\n",
      "[299 rows x 10 columns], 0), (        x-pos     y-pos     z-pos   w-orien   x-orien   y-orien   z-orien  \\\n",
      "0    0.000000  0.000000  0.000000  0.575091  0.711590 -0.323111 -0.241887   \n",
      "1    0.009611  0.092648 -0.012646  0.618385  0.677733 -0.328553 -0.224348   \n",
      "2    0.020650  0.197636 -0.030100  0.627940  0.717078 -0.259537 -0.155341   \n",
      "3    0.013522  0.284512 -0.056232  0.549483  0.761547 -0.252240 -0.233430   \n",
      "4    0.002739  0.395930 -0.040778  0.659418  0.602637 -0.261625 -0.365443   \n",
      "..        ...       ...       ...       ...       ...       ...       ...   \n",
      "294  0.000000  0.000000  0.000000  0.000000  0.000000  0.000000  0.000000   \n",
      "295  0.000000  0.000000  0.000000  0.000000  0.000000  0.000000  0.000000   \n",
      "296  0.000000  0.000000  0.000000  0.000000  0.000000  0.000000  0.000000   \n",
      "297  0.000000  0.000000  0.000000  0.000000  0.000000  0.000000  0.000000   \n",
      "298  0.000000  0.000000  0.000000  0.000000  0.000000  0.000000  0.000000   \n",
      "\n",
      "         x-ang      y-ang      z-ang  \n",
      "0    23.071000  14.709000  -4.578000  \n",
      "1    -8.667725   3.722179   7.079636  \n",
      "2     5.126223  21.787440  -2.991445  \n",
      "3    12.693986 -12.091305 -15.930350  \n",
      "4   -42.115056 -23.201615  -0.915382  \n",
      "..         ...        ...        ...  \n",
      "294   0.000000   0.000000   0.000000  \n",
      "295   0.000000   0.000000   0.000000  \n",
      "296   0.000000   0.000000   0.000000  \n",
      "297   0.000000   0.000000   0.000000  \n",
      "298   0.000000   0.000000   0.000000  \n",
      "\n",
      "[299 rows x 10 columns], 1), (        x-pos     y-pos     z-pos   w-orien   x-orien   y-orien   z-orien  \\\n",
      "0    0.000000  0.000000  0.000000  0.840449  0.493046 -0.102072 -0.200330   \n",
      "1    0.000000  0.000000  0.000000  0.828145  0.508740 -0.099432 -0.213242   \n",
      "2    0.000000  0.000000  0.000000  0.815477  0.524001 -0.096391 -0.226115   \n",
      "3    0.000000  0.000000  0.000000  0.807237  0.531346 -0.092004 -0.239948   \n",
      "4    0.000000  0.000000  0.000000  0.798747  0.538534 -0.087520 -0.253624   \n",
      "..        ...       ...       ...       ...       ...       ...       ...   \n",
      "294 -3.422529 -0.764477 -0.743524  0.358555  0.033591 -0.117196 -0.925513   \n",
      "295 -3.422529 -0.764477 -0.743524  0.366163  0.034978 -0.106042 -0.923827   \n",
      "296 -3.422529 -0.764477 -0.743524  0.373769  0.036387 -0.094880 -0.921939   \n",
      "297 -3.422529 -0.764477 -0.743524  0.374674  0.041205 -0.093497 -0.921510   \n",
      "298 -3.438151 -0.560240  0.235272  0.375558  0.046034 -0.092100 -0.921062   \n",
      "\n",
      "        x-ang     y-ang     z-ang  \n",
      "0   -2.258000 -3.052000  1.953000  \n",
      "1    3.418191 -0.427131 -3.417657  \n",
      "2    3.418357 -0.427184 -3.417210  \n",
      "3    1.587391 -0.610126 -3.355863  \n",
      "4    1.587414 -0.609994 -3.355522  \n",
      "..        ...       ...       ...  \n",
      "294  2.326162  1.936226  1.061635  \n",
      "295 -2.006683  0.537673  1.609278  \n",
      "296 -2.006395  0.543159  1.608028  \n",
      "297  0.068926  0.304666  0.263889  \n",
      "298  0.069241  0.310165  0.262748  \n",
      "\n",
      "[299 rows x 10 columns], 0), (        x-pos     y-pos     z-pos   w-orien   x-orien   y-orien   z-orien  \\\n",
      "0    0.000000  0.000000  0.000000  0.919777  0.297190  0.226782  0.119408   \n",
      "1   -0.075171  0.039844  0.102229  0.923367  0.099495  0.325239  0.178085   \n",
      "2   -0.148334  0.059578  0.159524  0.888601  0.062645  0.441048  0.109275   \n",
      "3   -0.251204  0.059540  0.192414  0.804851 -0.049093  0.587642  0.066941   \n",
      "4   -0.312253  0.059477  0.222363  0.827279 -0.118508  0.515501  0.189275   \n",
      "..        ...       ...       ...       ...       ...       ...       ...   \n",
      "294  0.000000  0.000000  0.000000  0.000000  0.000000  0.000000  0.000000   \n",
      "295  0.000000  0.000000  0.000000  0.000000  0.000000  0.000000  0.000000   \n",
      "296  0.000000  0.000000  0.000000  0.000000  0.000000  0.000000  0.000000   \n",
      "297  0.000000  0.000000  0.000000  0.000000  0.000000  0.000000  0.000000   \n",
      "298  0.000000  0.000000  0.000000  0.000000  0.000000  0.000000  0.000000   \n",
      "\n",
      "         x-ang      y-ang      z-ang  \n",
      "0   -66.528000  54.077000  26.245000  \n",
      "1   -37.414831  27.464460  -3.906228  \n",
      "2     2.380855  24.714875 -16.053250  \n",
      "3   -11.961579  36.797146 -17.396610  \n",
      "4   -26.487219 -14.475073  10.800940  \n",
      "..         ...        ...        ...  \n",
      "294   0.000000   0.000000   0.000000  \n",
      "295   0.000000   0.000000   0.000000  \n",
      "296   0.000000   0.000000   0.000000  \n",
      "297   0.000000   0.000000   0.000000  \n",
      "298   0.000000   0.000000   0.000000  \n",
      "\n",
      "[299 rows x 10 columns], 1), (        x-pos     y-pos     z-pos   w-orien   x-orien   y-orien   z-orien  \\\n",
      "0    0.000000  0.000000  0.000000  0.652866  0.610718 -0.302232 -0.330825   \n",
      "1   -0.000949  0.111714  0.007936  0.652790  0.610657 -0.302770 -0.330595   \n",
      "2   -0.001253  0.179355  0.014910  0.662306  0.598888 -0.300088 -0.335605   \n",
      "3   -0.002204  0.313946  0.025365  0.654118  0.607438 -0.303802 -0.332947   \n",
      "4   -0.002663  0.382698  0.031199  0.656885  0.605534 -0.301755 -0.332829   \n",
      "..        ...       ...       ...       ...       ...       ...       ...   \n",
      "294  0.000000  0.000000  0.000000  0.000000  0.000000  0.000000  0.000000   \n",
      "295  0.000000  0.000000  0.000000  0.000000  0.000000  0.000000  0.000000   \n",
      "296  0.000000  0.000000  0.000000  0.000000  0.000000  0.000000  0.000000   \n",
      "297  0.000000  0.000000  0.000000  0.000000  0.000000  0.000000  0.000000   \n",
      "298  0.000000  0.000000  0.000000  0.000000  0.000000  0.000000  0.000000   \n",
      "\n",
      "        x-ang     y-ang     z-ang  \n",
      "0   -3.357000 -0.244000 -0.244000  \n",
      "1    0.000240 -0.060995  0.061171  \n",
      "2   -3.295629 -0.487970  0.305257  \n",
      "3    2.563681 -0.121911 -0.243597  \n",
      "4   -0.731433  0.305167  0.061342  \n",
      "..        ...       ...       ...  \n",
      "294  0.000000  0.000000  0.000000  \n",
      "295  0.000000  0.000000  0.000000  \n",
      "296  0.000000  0.000000  0.000000  \n",
      "297  0.000000  0.000000  0.000000  \n",
      "298  0.000000  0.000000  0.000000  \n",
      "\n",
      "[299 rows x 10 columns], 1), (        x-pos     y-pos     z-pos   w-orien   x-orien   y-orien   z-orien  \\\n",
      "0    0.000000  0.000000  0.000000  0.622101  0.635704 -0.310143 -0.335682   \n",
      "1   -0.003590  0.068905 -0.000487  0.603906  0.626385 -0.333427 -0.362995   \n",
      "2   -0.010347  0.180682 -0.002531  0.594979  0.627566 -0.339533 -0.369971   \n",
      "3   -0.015665  0.267516 -0.003305  0.593478  0.621012 -0.344662 -0.378597   \n",
      "4   -0.021514  0.379340 -0.001020  0.599971  0.606885 -0.348554 -0.387602   \n",
      "..        ...       ...       ...       ...       ...       ...       ...   \n",
      "294  0.000000  0.000000  0.000000  0.000000  0.000000  0.000000  0.000000   \n",
      "295  0.000000  0.000000  0.000000  0.000000  0.000000  0.000000  0.000000   \n",
      "296  0.000000  0.000000  0.000000  0.000000  0.000000  0.000000  0.000000   \n",
      "297  0.000000  0.000000  0.000000  0.000000  0.000000  0.000000  0.000000   \n",
      "298  0.000000  0.000000  0.000000  0.000000  0.000000  0.000000  0.000000   \n",
      "\n",
      "        x-ang     y-ang     z-ang  \n",
      "0    2.258000 -0.610000 -1.160000  \n",
      "1    1.038034 -8.483967 -1.098964  \n",
      "2    1.281993 -2.562065 -0.792922  \n",
      "3   -0.793127 -2.805943 -0.060959  \n",
      "4   -2.869140 -2.804590  0.854080  \n",
      "..        ...       ...       ...  \n",
      "294  0.000000  0.000000  0.000000  \n",
      "295  0.000000  0.000000  0.000000  \n",
      "296  0.000000  0.000000  0.000000  \n",
      "297  0.000000  0.000000  0.000000  \n",
      "298  0.000000  0.000000  0.000000  \n",
      "\n",
      "[299 rows x 10 columns], 1), (        x-pos     y-pos     z-pos   w-orien   x-orien   y-orien   z-orien  \\\n",
      "0    0.000000  0.000000  0.000000  0.714944  0.441641 -0.271849 -0.468942   \n",
      "1   -0.000378  0.058437  0.030675  0.739033  0.448412 -0.257954 -0.431529   \n",
      "2   -0.002396  0.180021  0.093780  0.753828  0.462087 -0.236996 -0.402556   \n",
      "3   -0.003229  0.241256  0.120958  0.752271  0.492398 -0.233923 -0.370018   \n",
      "4   -0.030305  0.366404  0.163736  0.716221  0.562275 -0.159408 -0.381398   \n",
      "..        ...       ...       ...       ...       ...       ...       ...   \n",
      "294  0.000000  0.000000  0.000000  0.000000  0.000000  0.000000  0.000000   \n",
      "295  0.000000  0.000000  0.000000  0.000000  0.000000  0.000000  0.000000   \n",
      "296  0.000000  0.000000  0.000000  0.000000  0.000000  0.000000  0.000000   \n",
      "297  0.000000  0.000000  0.000000  0.000000  0.000000  0.000000  0.000000   \n",
      "298  0.000000  0.000000  0.000000  0.000000  0.000000  0.000000  0.000000   \n",
      "\n",
      "        x-ang      y-ang      z-ang  \n",
      "0    2.808000 -15.808000   1.709000  \n",
      "1   -0.730738   7.080269   5.859757  \n",
      "2    0.307041   7.690647   2.931185  \n",
      "3    6.228231   6.042519   3.175306  \n",
      "4    8.180630  14.281987 -15.136000  \n",
      "..        ...        ...        ...  \n",
      "294  0.000000   0.000000   0.000000  \n",
      "295  0.000000   0.000000   0.000000  \n",
      "296  0.000000   0.000000   0.000000  \n",
      "297  0.000000   0.000000   0.000000  \n",
      "298  0.000000   0.000000   0.000000  \n",
      "\n",
      "[299 rows x 10 columns], 0)]\n"
     ]
    }
   ],
   "source": [
    "print(test_sequence)"
   ]
  },
  {
   "cell_type": "code",
   "execution_count": 149,
   "id": "3239f739-d6b7-48a1-8a2b-67eb8a73bc9f",
   "metadata": {
    "editable": true,
    "slideshow": {
     "slide_type": ""
    },
    "tags": []
   },
   "outputs": [
    {
     "name": "stdout",
     "output_type": "stream",
     "text": [
      "[1, 1, 1, 1, 1, 1, 1, 1, 1, 1, 1]\n"
     ]
    }
   ],
   "source": [
    "print(predictions)"
   ]
  },
  {
   "cell_type": "code",
   "execution_count": null,
   "id": "4308e1bf-4da6-4b78-b566-5930edfa022e",
   "metadata": {},
   "outputs": [],
   "source": []
  }
 ],
 "metadata": {
  "kernelspec": {
   "display_name": "Python 3 (ipykernel)",
   "language": "python",
   "name": "python3"
  },
  "language_info": {
   "codemirror_mode": {
    "name": "ipython",
    "version": 3
   },
   "file_extension": ".py",
   "mimetype": "text/x-python",
   "name": "python",
   "nbconvert_exporter": "python",
   "pygments_lexer": "ipython3",
   "version": "3.11.8"
  }
 },
 "nbformat": 4,
 "nbformat_minor": 5
}
